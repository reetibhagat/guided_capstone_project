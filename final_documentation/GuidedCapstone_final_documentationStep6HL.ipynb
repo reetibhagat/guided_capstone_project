{
 "cells": [
  {
   "cell_type": "markdown",
   "metadata": {
    "colab_type": "text",
    "id": "cf5CmXQCZyF1"
   },
   "source": [
    "# Guided Capstone Step 6. Documentation"
   ]
  },
  {
   "cell_type": "markdown",
   "metadata": {
    "colab_type": "text",
    "id": "JbZXsVevfr9M"
   },
   "source": [
    "**The Data Science Method**  \n",
    "\n",
    "\n",
    "1.   Problem Identification \n",
    "\n",
    "2.   Data Wrangling \n",
    "  \n",
    "3.   Exploratory Data Analysis \n",
    " \n",
    "4.   Pre-processing and Training Data Development\n",
    "\n",
    "5.  Modeling\n",
    "\n",
    "6.   **Documentation**\n",
    "  * Review the Results\n",
    "  * Finalize Code \n",
    "  * Finalize Documentation\n",
    "  * Create a Project Report \n",
    "  * Create a Slide Deck for the Executive Audience"
   ]
  },
  {
   "cell_type": "markdown",
   "metadata": {
    "colab_type": "text",
    "id": "D-oGciwnGUYk"
   },
   "source": [
    "In this guided capstone we are going to revisit many of the actions we took in the previous guided capstone steps. This gives you the opportunity to practice the code you wrote to solve the questions in step 4 and 5. "
   ]
  },
  {
   "cell_type": "markdown",
   "metadata": {
    "colab_type": "text",
    "id": "K8xfkAqqZyF2"
   },
   "source": [
    "**<font color='teal'> Start by loading the necessary packages and printing out our current working directory just to confirm we are in the correct project directory. </font>**"
   ]
  },
  {
   "cell_type": "code",
   "execution_count": 2,
   "metadata": {
    "colab": {},
    "colab_type": "code",
    "id": "ry6WPL5eZyF3"
   },
   "outputs": [],
   "source": [
    "import os\n",
    "import pandas as pd\n",
    "import datetime\n",
    "import seaborn as sns\n",
    "import matplotlib.pyplot as plt\n",
    "import numpy as np\n",
    "%matplotlib inline"
   ]
  },
  {
   "cell_type": "code",
   "execution_count": 3,
   "metadata": {},
   "outputs": [
    {
     "data": {
      "text/plain": [
       "'/Users/ajesh_mahto/Desktop/capstone_project'"
      ]
     },
     "execution_count": 3,
     "metadata": {},
     "output_type": "execute_result"
    }
   ],
   "source": [
    "os.getcwd()"
   ]
  },
  {
   "cell_type": "markdown",
   "metadata": {
    "colab_type": "text",
    "id": "0HTP9cF2GUYs"
   },
   "source": [
    "## Fit Models with Training Dataset"
   ]
  },
  {
   "cell_type": "markdown",
   "metadata": {
    "colab_type": "text",
    "id": "A2FmSbtCGUYt"
   },
   "source": [
    "**<font color='teal'> Using sklearn fit the model you chose in Guided Capstone 5 on your training dataset. This includes: creating dummy features for states if you need them, scaling the data,and creating train and test splits before fitting the chosen model.Also, remember to generate a model performance score(MAE, or explained variance) based on the testing hold-out data set.</font>**"
   ]
  },
  {
   "cell_type": "markdown",
   "metadata": {
    "colab_type": "text",
    "id": "ReRSy1yFGUYu"
   },
   "source": [
    "#### Best Model "
   ]
  },
  {
   "cell_type": "code",
   "execution_count": 4,
   "metadata": {
    "colab": {},
    "colab_type": "code",
    "id": "YRhPGbqPGUYv"
   },
   "outputs": [],
   "source": [
    "##model4 is best model as accuracy is 93% and it is generalized model."
   ]
  },
  {
   "cell_type": "code",
   "execution_count": 5,
   "metadata": {},
   "outputs": [],
   "source": [
    "df_1=pd.read_csv(r'/Users/ajesh_mahto/Desktop/capstone_project/data/step_try.csv')"
   ]
  },
  {
   "cell_type": "code",
   "execution_count": 6,
   "metadata": {},
   "outputs": [
    {
     "data": {
      "text/html": [
       "<div>\n",
       "<style scoped>\n",
       "    .dataframe tbody tr th:only-of-type {\n",
       "        vertical-align: middle;\n",
       "    }\n",
       "\n",
       "    .dataframe tbody tr th {\n",
       "        vertical-align: top;\n",
       "    }\n",
       "\n",
       "    .dataframe thead th {\n",
       "        text-align: right;\n",
       "    }\n",
       "</style>\n",
       "<table border=\"1\" class=\"dataframe\">\n",
       "  <thead>\n",
       "    <tr style=\"text-align: right;\">\n",
       "      <th></th>\n",
       "      <th>Unnamed: 0</th>\n",
       "      <th>Name</th>\n",
       "      <th>state</th>\n",
       "      <th>summit_elev</th>\n",
       "      <th>vertical_drop</th>\n",
       "      <th>trams</th>\n",
       "      <th>fastEight</th>\n",
       "      <th>fastSixes</th>\n",
       "      <th>fastQuads</th>\n",
       "      <th>quad</th>\n",
       "      <th>...</th>\n",
       "      <th>SkiableTerrain_ac</th>\n",
       "      <th>Snow Making_ac</th>\n",
       "      <th>daysOpenLastYear</th>\n",
       "      <th>yearsOpen</th>\n",
       "      <th>averageSnowfall</th>\n",
       "      <th>AdultWeekday</th>\n",
       "      <th>AdultWeekend</th>\n",
       "      <th>projectedDaysOpen</th>\n",
       "      <th>NightSkiing_ac</th>\n",
       "      <th>clusters</th>\n",
       "    </tr>\n",
       "  </thead>\n",
       "  <tbody>\n",
       "    <tr>\n",
       "      <th>0</th>\n",
       "      <td>0</td>\n",
       "      <td>Alyeska Resort</td>\n",
       "      <td>Alaska</td>\n",
       "      <td>3939</td>\n",
       "      <td>2500</td>\n",
       "      <td>1</td>\n",
       "      <td>0</td>\n",
       "      <td>0</td>\n",
       "      <td>2</td>\n",
       "      <td>2</td>\n",
       "      <td>...</td>\n",
       "      <td>1610.0</td>\n",
       "      <td>113.0</td>\n",
       "      <td>150.0</td>\n",
       "      <td>60.0</td>\n",
       "      <td>669.0</td>\n",
       "      <td>65.0</td>\n",
       "      <td>85.0</td>\n",
       "      <td>150.0</td>\n",
       "      <td>550</td>\n",
       "      <td>0</td>\n",
       "    </tr>\n",
       "    <tr>\n",
       "      <th>1</th>\n",
       "      <td>1</td>\n",
       "      <td>Eaglecrest Ski Area</td>\n",
       "      <td>Alaska</td>\n",
       "      <td>2600</td>\n",
       "      <td>1540</td>\n",
       "      <td>0</td>\n",
       "      <td>0</td>\n",
       "      <td>0</td>\n",
       "      <td>0</td>\n",
       "      <td>0</td>\n",
       "      <td>...</td>\n",
       "      <td>640.0</td>\n",
       "      <td>60.0</td>\n",
       "      <td>45.0</td>\n",
       "      <td>44.0</td>\n",
       "      <td>350.0</td>\n",
       "      <td>47.0</td>\n",
       "      <td>53.0</td>\n",
       "      <td>90.0</td>\n",
       "      <td>0</td>\n",
       "      <td>0</td>\n",
       "    </tr>\n",
       "    <tr>\n",
       "      <th>2</th>\n",
       "      <td>2</td>\n",
       "      <td>Hilltop Ski Area</td>\n",
       "      <td>Alaska</td>\n",
       "      <td>2090</td>\n",
       "      <td>294</td>\n",
       "      <td>0</td>\n",
       "      <td>0</td>\n",
       "      <td>0</td>\n",
       "      <td>0</td>\n",
       "      <td>0</td>\n",
       "      <td>...</td>\n",
       "      <td>30.0</td>\n",
       "      <td>30.0</td>\n",
       "      <td>150.0</td>\n",
       "      <td>36.0</td>\n",
       "      <td>69.0</td>\n",
       "      <td>30.0</td>\n",
       "      <td>34.0</td>\n",
       "      <td>152.0</td>\n",
       "      <td>30</td>\n",
       "      <td>0</td>\n",
       "    </tr>\n",
       "    <tr>\n",
       "      <th>3</th>\n",
       "      <td>3</td>\n",
       "      <td>Arizona Snowbowl</td>\n",
       "      <td>Arizona</td>\n",
       "      <td>11500</td>\n",
       "      <td>2300</td>\n",
       "      <td>0</td>\n",
       "      <td>0</td>\n",
       "      <td>1</td>\n",
       "      <td>0</td>\n",
       "      <td>2</td>\n",
       "      <td>...</td>\n",
       "      <td>777.0</td>\n",
       "      <td>104.0</td>\n",
       "      <td>122.0</td>\n",
       "      <td>81.0</td>\n",
       "      <td>260.0</td>\n",
       "      <td>89.0</td>\n",
       "      <td>89.0</td>\n",
       "      <td>122.0</td>\n",
       "      <td>0</td>\n",
       "      <td>1</td>\n",
       "    </tr>\n",
       "    <tr>\n",
       "      <th>4</th>\n",
       "      <td>4</td>\n",
       "      <td>Sunrise Park Resort</td>\n",
       "      <td>Arizona</td>\n",
       "      <td>11100</td>\n",
       "      <td>1800</td>\n",
       "      <td>0</td>\n",
       "      <td>0</td>\n",
       "      <td>0</td>\n",
       "      <td>1</td>\n",
       "      <td>2</td>\n",
       "      <td>...</td>\n",
       "      <td>800.0</td>\n",
       "      <td>80.0</td>\n",
       "      <td>115.0</td>\n",
       "      <td>49.0</td>\n",
       "      <td>250.0</td>\n",
       "      <td>74.0</td>\n",
       "      <td>78.0</td>\n",
       "      <td>104.0</td>\n",
       "      <td>80</td>\n",
       "      <td>1</td>\n",
       "    </tr>\n",
       "  </tbody>\n",
       "</table>\n",
       "<p>5 rows × 27 columns</p>\n",
       "</div>"
      ],
      "text/plain": [
       "   Unnamed: 0                 Name    state  summit_elev  vertical_drop  \\\n",
       "0           0       Alyeska Resort   Alaska         3939           2500   \n",
       "1           1  Eaglecrest Ski Area   Alaska         2600           1540   \n",
       "2           2     Hilltop Ski Area   Alaska         2090            294   \n",
       "3           3     Arizona Snowbowl  Arizona        11500           2300   \n",
       "4           4  Sunrise Park Resort  Arizona        11100           1800   \n",
       "\n",
       "   trams  fastEight  fastSixes  fastQuads  quad  ...  SkiableTerrain_ac  \\\n",
       "0      1          0          0          2     2  ...             1610.0   \n",
       "1      0          0          0          0     0  ...              640.0   \n",
       "2      0          0          0          0     0  ...               30.0   \n",
       "3      0          0          1          0     2  ...              777.0   \n",
       "4      0          0          0          1     2  ...              800.0   \n",
       "\n",
       "   Snow Making_ac  daysOpenLastYear  yearsOpen  averageSnowfall  AdultWeekday  \\\n",
       "0           113.0             150.0       60.0            669.0          65.0   \n",
       "1            60.0              45.0       44.0            350.0          47.0   \n",
       "2            30.0             150.0       36.0             69.0          30.0   \n",
       "3           104.0             122.0       81.0            260.0          89.0   \n",
       "4            80.0             115.0       49.0            250.0          74.0   \n",
       "\n",
       "   AdultWeekend  projectedDaysOpen  NightSkiing_ac  clusters  \n",
       "0          85.0              150.0             550         0  \n",
       "1          53.0               90.0               0         0  \n",
       "2          34.0              152.0              30         0  \n",
       "3          89.0              122.0               0         1  \n",
       "4          78.0              104.0              80         1  \n",
       "\n",
       "[5 rows x 27 columns]"
      ]
     },
     "execution_count": 6,
     "metadata": {},
     "output_type": "execute_result"
    }
   ],
   "source": [
    "df_1.head()\n"
   ]
  },
  {
   "cell_type": "code",
   "execution_count": 7,
   "metadata": {
    "scrolled": true
   },
   "outputs": [],
   "source": [
    "df_1=df_1.drop('Unnamed: 0',axis=1)\n"
   ]
  },
  {
   "cell_type": "code",
   "execution_count": 8,
   "metadata": {},
   "outputs": [],
   "source": [
    "df=pd.get_dummies(df_1, columns=['state'],drop_first=True)"
   ]
  },
  {
   "cell_type": "code",
   "execution_count": 9,
   "metadata": {},
   "outputs": [],
   "source": [
    "from sklearn.preprocessing import StandardScaler\n",
    "X=df.drop(['Name','AdultWeekend'], axis=1)\n",
    "y=df['AdultWeekend']\n",
    "scaler=StandardScaler()\n",
    "X_scaled=scaler.fit_transform(X)\n",
    "y=y.ravel()"
   ]
  },
  {
   "cell_type": "code",
   "execution_count": 10,
   "metadata": {},
   "outputs": [
    {
     "data": {
      "text/plain": [
       "LinearRegression(copy_X=True, fit_intercept=True, n_jobs=None, normalize=False)"
      ]
     },
     "execution_count": 10,
     "metadata": {},
     "output_type": "execute_result"
    }
   ],
   "source": [
    "from sklearn.model_selection import train_test_split\n",
    "from sklearn.linear_model import LinearRegression\n",
    "X_train,X_test,y_train,y_test = train_test_split(X, y, test_size=0.25, random_state=1)\n",
    "\n",
    "model4=LinearRegression()\n",
    "model4.fit(X_train,y_train)"
   ]
  },
  {
   "cell_type": "code",
   "execution_count": 11,
   "metadata": {},
   "outputs": [],
   "source": [
    "ypred=model4.predict(X_test)"
   ]
  },
  {
   "cell_type": "code",
   "execution_count": 12,
   "metadata": {
    "scrolled": true
   },
   "outputs": [
    {
     "data": {
      "text/html": [
       "<div>\n",
       "<style scoped>\n",
       "    .dataframe tbody tr th:only-of-type {\n",
       "        vertical-align: middle;\n",
       "    }\n",
       "\n",
       "    .dataframe tbody tr th {\n",
       "        vertical-align: top;\n",
       "    }\n",
       "\n",
       "    .dataframe thead th {\n",
       "        text-align: right;\n",
       "    }\n",
       "</style>\n",
       "<table border=\"1\" class=\"dataframe\">\n",
       "  <thead>\n",
       "    <tr style=\"text-align: right;\">\n",
       "      <th></th>\n",
       "      <th>Actual</th>\n",
       "      <th>Predicted</th>\n",
       "    </tr>\n",
       "  </thead>\n",
       "  <tbody>\n",
       "    <tr>\n",
       "      <th>0</th>\n",
       "      <td>57.916957</td>\n",
       "      <td>57.294816</td>\n",
       "    </tr>\n",
       "    <tr>\n",
       "      <th>1</th>\n",
       "      <td>88.000000</td>\n",
       "      <td>93.475225</td>\n",
       "    </tr>\n",
       "    <tr>\n",
       "      <th>2</th>\n",
       "      <td>74.000000</td>\n",
       "      <td>78.297604</td>\n",
       "    </tr>\n",
       "    <tr>\n",
       "      <th>3</th>\n",
       "      <td>78.000000</td>\n",
       "      <td>76.393092</td>\n",
       "    </tr>\n",
       "    <tr>\n",
       "      <th>4</th>\n",
       "      <td>57.916957</td>\n",
       "      <td>68.134293</td>\n",
       "    </tr>\n",
       "    <tr>\n",
       "      <th>...</th>\n",
       "      <td>...</td>\n",
       "      <td>...</td>\n",
       "    </tr>\n",
       "    <tr>\n",
       "      <th>78</th>\n",
       "      <td>84.000000</td>\n",
       "      <td>84.567529</td>\n",
       "    </tr>\n",
       "    <tr>\n",
       "      <th>79</th>\n",
       "      <td>85.000000</td>\n",
       "      <td>69.052554</td>\n",
       "    </tr>\n",
       "    <tr>\n",
       "      <th>80</th>\n",
       "      <td>44.000000</td>\n",
       "      <td>53.112146</td>\n",
       "    </tr>\n",
       "    <tr>\n",
       "      <th>81</th>\n",
       "      <td>59.000000</td>\n",
       "      <td>57.822137</td>\n",
       "    </tr>\n",
       "    <tr>\n",
       "      <th>82</th>\n",
       "      <td>43.000000</td>\n",
       "      <td>43.532422</td>\n",
       "    </tr>\n",
       "  </tbody>\n",
       "</table>\n",
       "<p>83 rows × 2 columns</p>\n",
       "</div>"
      ],
      "text/plain": [
       "       Actual  Predicted\n",
       "0   57.916957  57.294816\n",
       "1   88.000000  93.475225\n",
       "2   74.000000  78.297604\n",
       "3   78.000000  76.393092\n",
       "4   57.916957  68.134293\n",
       "..        ...        ...\n",
       "78  84.000000  84.567529\n",
       "79  85.000000  69.052554\n",
       "80  44.000000  53.112146\n",
       "81  59.000000  57.822137\n",
       "82  43.000000  43.532422\n",
       "\n",
       "[83 rows x 2 columns]"
      ]
     },
     "execution_count": 12,
     "metadata": {},
     "output_type": "execute_result"
    }
   ],
   "source": [
    "actual_weekened = pd.DataFrame({'Actual': y_test, 'Predicted': ypred})\n",
    "actual_weekened"
   ]
  },
  {
   "cell_type": "code",
   "execution_count": 13,
   "metadata": {},
   "outputs": [
    {
     "data": {
      "text/plain": [
       "0.8984136017947337"
      ]
     },
     "execution_count": 13,
     "metadata": {},
     "output_type": "execute_result"
    }
   ],
   "source": [
    "model4.score(X_train,y_train)"
   ]
  },
  {
   "cell_type": "code",
   "execution_count": 14,
   "metadata": {},
   "outputs": [
    {
     "data": {
      "text/plain": [
       "0.9314763239896608"
      ]
     },
     "execution_count": 14,
     "metadata": {},
     "output_type": "execute_result"
    }
   ],
   "source": [
    "model4.score(X_test,y_test)"
   ]
  },
  {
   "cell_type": "code",
   "execution_count": 15,
   "metadata": {},
   "outputs": [],
   "source": [
    "from sklearn.metrics import mean_absolute_error\n",
    "from sklearn.metrics import mean_squared_error\n",
    "from sklearn.metrics import mean_absolute_error\n",
    "import math"
   ]
  },
  {
   "cell_type": "code",
   "execution_count": 16,
   "metadata": {},
   "outputs": [
    {
     "name": "stdout",
     "output_type": "stream",
     "text": [
      "Mean Absolute Error: 5.162174619564856\n",
      "Root Mean Squared Error: 6.874864639122517\n",
      "Mean Squared Error: 47.263763806257174\n"
     ]
    }
   ],
   "source": [
    "print('Mean Absolute Error:', mean_absolute_error(y_test, ypred))\n",
    "print('Root Mean Squared Error:', np.sqrt(mean_squared_error(y_test, ypred)))\n",
    "print('Mean Squared Error:', mean_squared_error(y_test, ypred))\n",
    "\n",
    "\n"
   ]
  },
  {
   "cell_type": "markdown",
   "metadata": {
    "colab_type": "text",
    "id": "GGizyeLZGUYz"
   },
   "source": [
    "## Review the results "
   ]
  },
  {
   "cell_type": "markdown",
   "metadata": {
    "colab_type": "text",
    "id": "4Lhu-qisGUY0"
   },
   "source": [
    "**<font color='teal'> Now, let's predict the Big Mountain Weekend price with our model in order to provide a recommendation to our managers on how to price the `AdultWeekend` lift ticket. First we need to find the row for Big Mountain resort in our data using string contains or string matching.</font>**"
   ]
  },
  {
   "cell_type": "code",
   "execution_count": 22,
   "metadata": {
    "colab": {},
    "colab_type": "code",
    "id": "YXnx_IuEGUY1",
    "scrolled": true
   },
   "outputs": [
    {
     "data": {
      "text/html": [
       "<div>\n",
       "<style scoped>\n",
       "    .dataframe tbody tr th:only-of-type {\n",
       "        vertical-align: middle;\n",
       "    }\n",
       "\n",
       "    .dataframe tbody tr th {\n",
       "        vertical-align: top;\n",
       "    }\n",
       "\n",
       "    .dataframe thead th {\n",
       "        text-align: right;\n",
       "    }\n",
       "</style>\n",
       "<table border=\"1\" class=\"dataframe\">\n",
       "  <thead>\n",
       "    <tr style=\"text-align: right;\">\n",
       "      <th></th>\n",
       "      <th>Name</th>\n",
       "      <th>summit_elev</th>\n",
       "      <th>vertical_drop</th>\n",
       "      <th>trams</th>\n",
       "      <th>fastEight</th>\n",
       "      <th>fastSixes</th>\n",
       "      <th>fastQuads</th>\n",
       "      <th>quad</th>\n",
       "      <th>triple</th>\n",
       "      <th>double</th>\n",
       "      <th>...</th>\n",
       "      <th>state_Rhode Island</th>\n",
       "      <th>state_South Dakota</th>\n",
       "      <th>state_Tennessee</th>\n",
       "      <th>state_Utah</th>\n",
       "      <th>state_Vermont</th>\n",
       "      <th>state_Virginia</th>\n",
       "      <th>state_Washington</th>\n",
       "      <th>state_West Virginia</th>\n",
       "      <th>state_Wisconsin</th>\n",
       "      <th>state_Wyoming</th>\n",
       "    </tr>\n",
       "  </thead>\n",
       "  <tbody>\n",
       "    <tr>\n",
       "      <th>151</th>\n",
       "      <td>Big Mountain</td>\n",
       "      <td>6817</td>\n",
       "      <td>2353</td>\n",
       "      <td>0</td>\n",
       "      <td>0</td>\n",
       "      <td>0</td>\n",
       "      <td>3</td>\n",
       "      <td>2</td>\n",
       "      <td>6</td>\n",
       "      <td>0</td>\n",
       "      <td>...</td>\n",
       "      <td>0</td>\n",
       "      <td>0</td>\n",
       "      <td>0</td>\n",
       "      <td>0</td>\n",
       "      <td>0</td>\n",
       "      <td>0</td>\n",
       "      <td>0</td>\n",
       "      <td>0</td>\n",
       "      <td>0</td>\n",
       "      <td>0</td>\n",
       "    </tr>\n",
       "  </tbody>\n",
       "</table>\n",
       "<p>1 rows × 59 columns</p>\n",
       "</div>"
      ],
      "text/plain": [
       "              Name  summit_elev  vertical_drop  trams  fastEight  fastSixes  \\\n",
       "151  Big Mountain          6817           2353      0          0          0   \n",
       "\n",
       "     fastQuads  quad  triple  double  ...  state_Rhode Island  \\\n",
       "151          3     2       6       0  ...                   0   \n",
       "\n",
       "     state_South Dakota  state_Tennessee  state_Utah  state_Vermont  \\\n",
       "151                   0                0           0              0   \n",
       "\n",
       "     state_Virginia  state_Washington  state_West Virginia  state_Wisconsin  \\\n",
       "151               0                 0                    0                0   \n",
       "\n",
       "     state_Wyoming  \n",
       "151              0  \n",
       "\n",
       "[1 rows x 59 columns]"
      ]
     },
     "execution_count": 22,
     "metadata": {},
     "output_type": "execute_result"
    }
   ],
   "source": [
    "#df[df['Name'].str.contains('Big Mountain')]\n",
    "df3=df[df['Name'].str.contains('Big Mountain')]\n",
    "df3"
   ]
  },
  {
   "cell_type": "markdown",
   "metadata": {
    "colab_type": "text",
    "id": "83-jO9hPGUY4"
   },
   "source": [
    "**<font color='teal'> Prepare the Big Mountain resort data row as you did in the model fitting stage.</font>**"
   ]
  },
  {
   "cell_type": "code",
   "execution_count": 25,
   "metadata": {
    "colab": {},
    "colab_type": "code",
    "id": "oWH_q9YOGUY5"
   },
   "outputs": [],
   "source": [
    "\n",
    "features=df3.drop(['Name','AdultWeekend'], axis=1)\n"
   ]
  },
  {
   "cell_type": "markdown",
   "metadata": {
    "colab_type": "text",
    "id": "2BCFqZYBGUY9"
   },
   "source": [
    "**<font color='teal'> Predict the Big Mountain resort `Adult Weekend` price and print it out.</font>** This is our expected price to present to management. Based on our model given the characteristics of the resort in comparison to other ski resorts and their unique characteristics."
   ]
  },
  {
   "cell_type": "code",
   "execution_count": 24,
   "metadata": {
    "colab": {},
    "colab_type": "code",
    "id": "XebWxxTMGUY-"
   },
   "outputs": [
    {
     "data": {
      "text/plain": [
       "array([83.22318003])"
      ]
     },
     "execution_count": 24,
     "metadata": {},
     "output_type": "execute_result"
    }
   ],
   "source": [
    "price=model4.predict(features)\n",
    "price"
   ]
  },
  {
   "cell_type": "markdown",
   "metadata": {
    "colab_type": "text",
    "id": "_5BvguMLGUZB"
   },
   "source": [
    "**<font color='teal'> Print the Big Mountain resort actual `Adult Weekend` price.</font>**"
   ]
  },
  {
   "cell_type": "code",
   "execution_count": 27,
   "metadata": {
    "colab": {},
    "colab_type": "code",
    "id": "WyxTHtL2GUZC"
   },
   "outputs": [
    {
     "name": "stdout",
     "output_type": "stream",
     "text": [
      "The actual Big Mountain Resort adult weekend price is $81.0 \n"
     ]
    }
   ],
   "source": [
    "ac=df[df['Name'].str.contains('Big Mountain')]\n",
    "print (\"The actual Big Mountain Resort adult weekend price is $%s \" % ' '.join(map(str, ac.AdultWeekend)))"
   ]
  },
  {
   "cell_type": "markdown",
   "metadata": {
    "colab_type": "text",
    "id": "O0Yli8MXGUZH"
   },
   "source": [
    "**<font color='teal'> As part of reviewing the results it is an important step to generate figures to visualize the data story. We can use the clusters we added to our data frame to create scatter plots for visualizing the Adult Weekend values compared to other characteristics. Run the example below to get you started and build two or three more figures to include in your data story telling.</font>**"
   ]
  },
  {
   "cell_type": "code",
   "execution_count": 28,
   "metadata": {
    "scrolled": true
   },
   "outputs": [
    {
     "data": {
      "image/png": "[encoded data removed]",
      "text/plain": [
       "<Figure size 432x288 with 1 Axes>"
      ]
     },
     "metadata": {
      "needs_background": "light"
     },
     "output_type": "display_data"
    }
   ],
   "source": [
    "plt.scatter(df['summit_elev'], df['vertical_drop'], c=df['clusters'], s=50, cmap='viridis', label ='clusters',edgecolors='white')\n",
    "plt.scatter(ac['summit_elev'], ac['vertical_drop'], c='white', s=200,edgecolors='black')\n",
    "sns.despine()\n",
    "plt.xlabel('Summit Elevation (feet)')\n",
    "plt.ylabel('Vertical Elevation Drop (feet)')\n",
    "#plt.title('summit_elev by vertical_drop by cluster')\n",
    "plt.savefig('figures/fig1.png',bbox_inches='tight')"
   ]
  },
  {
   "cell_type": "code",
   "execution_count": 30,
   "metadata": {
    "scrolled": true
   },
   "outputs": [
    {
     "data": {
      "image/png": "[encoded data removed]",
      "text/plain": [
       "<Figure size 432x288 with 1 Axes>"
      ]
     },
     "metadata": {
      "needs_background": "light"
     },
     "output_type": "display_data"
    }
   ],
   "source": [
    "sns.regplot(x=\"AdultWeekend\", y=\"SkiableTerrain_ac\", data=df[(df['SkiableTerrain_ac']<25000)], color =\"#440154FF\",scatter_kws={\"s\": 25})\n",
    "plt.scatter(x=\"AdultWeekend\", y=\"SkiableTerrain_ac\", data=ac, c='white',s=200,edgecolors='black')\n",
    "sns.despine()\n",
    "plt.xlabel('Lift Ticket Price ($)')\n",
    "plt.ylabel('Skiable Area (acres)')\n",
    "plt.savefig('figures/fig2.png',bbox_inches='tight')"
   ]
  },
  {
   "cell_type": "code",
   "execution_count": 31,
   "metadata": {
    "scrolled": true
   },
   "outputs": [
    {
     "data": {
      "image/png": "[encoded data removed]",
      "text/plain": [
       "<Figure size 432x288 with 1 Axes>"
      ]
     },
     "metadata": {
      "needs_background": "light"
     },
     "output_type": "display_data"
    }
   ],
   "source": [
    "sns.regplot(x=\"AdultWeekend\", y=\"daysOpenLastYear\", data=df,color =\"#21908CFF\",scatter_kws={\"s\": 25})\n",
    "sns.despine()\n",
    "plt.scatter(x=\"AdultWeekend\", y=\"daysOpenLastYear\", data=ac, c='white',s=200,edgecolors='black')\n",
    "plt.xlabel('Lift Ticket Price ($)')\n",
    "plt.ylabel('Days Open Last Year')\n",
    "plt.savefig('figures/fig3.png',bbox_inches='tight')"
   ]
  },
  {
   "cell_type": "code",
   "execution_count": 32,
   "metadata": {},
   "outputs": [
    {
     "data": {
      "image/png": "[encoded data removed]",
      "text/plain": [
       "<Figure size 432x432 with 3 Axes>"
      ]
     },
     "metadata": {},
     "output_type": "display_data"
    }
   ],
   "source": [
    "sns.set(style=\"ticks\")\n",
    "sns.jointplot(x=df['AdultWeekend'], y=df['daysOpenLastYear'], kind=\"hex\", color=\"#FDE725FF\")\n",
    "sns.despine()\n",
    "plt.xlabel('Lift Ticket Price ($)')\n",
    "plt.ylabel('Days Open Last Year')\n",
    "plt.savefig('figures/fig4.png',bbox_inches='tight')"
   ]
  },
  {
   "cell_type": "markdown",
   "metadata": {
    "colab_type": "text",
    "id": "giLKE2WMGUZh"
   },
   "source": [
    "## Finalize Code"
   ]
  },
  {
   "cell_type": "markdown",
   "metadata": {
    "colab_type": "text",
    "id": "pps_ASHoGUZi"
   },
   "source": [
    " Making sure our code is well organized and easy to follow is an important step. This is the time where you need to review the notebooks and Python scripts you've created and clean them up so they are easy to follow and succinct in nature. Addtionally, we will also save our final model as a callable object using Pickle for future use in a data pipeline. Pickle is a module that serializes (and de-serializes) Python objects so that they can become executable objects like functions. It's used extensively in production environments where machine learning models are deployed on an industrial scale!**<font color='teal'> Run the example code below to save out your callable model. Notice that we save it in the models folder we created in our previous guided capstone step.</font>** "
   ]
  },
  {
   "cell_type": "code",
   "execution_count": 30,
   "metadata": {
    "colab": {},
    "colab_type": "code",
    "id": "X_h0tkt_GUZj"
   },
   "outputs": [
    {
     "data": {
      "text/plain": [
       "['models/regression_model_adultweekend.joblib']"
      ]
     },
     "execution_count": 30,
     "metadata": {},
     "output_type": "execute_result"
    }
   ],
   "source": [
    "import pickle\n",
    "s = pickle.dumps(model4)\n",
    "from joblib import dump, load\n",
    "dump(model4, 'models/regression_model_adultweekend.joblib') "
   ]
  },
  {
   "cell_type": "markdown",
   "metadata": {
    "colab_type": "text",
    "id": "MTVrVlerGUZn"
   },
   "source": [
    "## Finalize Documentation"
   ]
  },
  {
   "cell_type": "markdown",
   "metadata": {
    "colab_type": "text",
    "id": "thEMyu-DGUZo"
   },
   "source": [
    "For model documentation, we want to save the model performance metrics as well as the features included in the final model. You could also save the model perfomance metrics and coefficients fo the other models you tried in case you want to refer to them later. **<font color='teal'> Create a dataframe containing the coefficients and the model performance metrics and save it out as a csv file, then upload it to your github repository.</font>** "
   ]
  },
  {
   "cell_type": "code",
   "execution_count": 33,
   "metadata": {
    "colab": {},
    "colab_type": "code",
    "id": "278tnHLlGUZp"
   },
   "outputs": [],
   "source": [
    "performance_metrics=pd.DataFrame(abs(model4.coef_), X.columns, columns=['Coefficient'])\n",
    "performance_metrics['Mean Absolute Error']= mean_absolute_error(y_test, ypred)\n",
    "performance_metrics['Root Mean Squared Error']=np.sqrt(mean_squared_error(y_test, ypred))\n",
    "performance_metrics['r2-testscore']=model4.score(X_test,y_test)\n",
    "performance_metrics['r2-trainscore']=model4.score(X_train,y_train)"
   ]
  },
  {
   "cell_type": "code",
   "execution_count": 42,
   "metadata": {
    "colab": {},
    "colab_type": "code",
    "id": "4CEOoBLFGUZr"
   },
   "outputs": [],
   "source": [
    "performance_metrics['Mean Absolute Error']= mean_absolute_error(y_test, ypred)"
   ]
  },
  {
   "cell_type": "code",
   "execution_count": 43,
   "metadata": {},
   "outputs": [],
   "source": [
    "performance_metrics['Root Mean Squared Error']=np.sqrt(mean_squared_error(y_test, ypred))"
   ]
  },
  {
   "cell_type": "code",
   "execution_count": 44,
   "metadata": {},
   "outputs": [],
   "source": [
    "performance_metrics['r2-testscore']=model4.score(X_test,y_test)"
   ]
  },
  {
   "cell_type": "code",
   "execution_count": 45,
   "metadata": {},
   "outputs": [],
   "source": [
    "performance_metrics['r2-trainscore']=model4.score(X_train,y_train)"
   ]
  },
  {
   "cell_type": "code",
   "execution_count": 48,
   "metadata": {
    "collapsed": true
   },
   "outputs": [
    {
     "data": {
      "text/html": [
       "<div>\n",
       "<style scoped>\n",
       "    .dataframe tbody tr th:only-of-type {\n",
       "        vertical-align: middle;\n",
       "    }\n",
       "\n",
       "    .dataframe tbody tr th {\n",
       "        vertical-align: top;\n",
       "    }\n",
       "\n",
       "    .dataframe thead th {\n",
       "        text-align: right;\n",
       "    }\n",
       "</style>\n",
       "<table border=\"1\" class=\"dataframe\">\n",
       "  <thead>\n",
       "    <tr style=\"text-align: right;\">\n",
       "      <th></th>\n",
       "      <th>Coefficient</th>\n",
       "      <th>Mean Absolute Error</th>\n",
       "      <th>Root Mean Squared Error</th>\n",
       "      <th>r2-testscore</th>\n",
       "      <th>r2-trainscore</th>\n",
       "    </tr>\n",
       "  </thead>\n",
       "  <tbody>\n",
       "    <tr>\n",
       "      <th>summit_elev</th>\n",
       "      <td>0.000496</td>\n",
       "      <td>5.162175</td>\n",
       "      <td>6.874865</td>\n",
       "      <td>0.931476</td>\n",
       "      <td>0.898414</td>\n",
       "    </tr>\n",
       "    <tr>\n",
       "      <th>vertical_drop</th>\n",
       "      <td>0.000086</td>\n",
       "      <td>5.162175</td>\n",
       "      <td>6.874865</td>\n",
       "      <td>0.931476</td>\n",
       "      <td>0.898414</td>\n",
       "    </tr>\n",
       "    <tr>\n",
       "      <th>trams</th>\n",
       "      <td>0.059915</td>\n",
       "      <td>5.162175</td>\n",
       "      <td>6.874865</td>\n",
       "      <td>0.931476</td>\n",
       "      <td>0.898414</td>\n",
       "    </tr>\n",
       "    <tr>\n",
       "      <th>fastEight</th>\n",
       "      <td>1.089255</td>\n",
       "      <td>5.162175</td>\n",
       "      <td>6.874865</td>\n",
       "      <td>0.931476</td>\n",
       "      <td>0.898414</td>\n",
       "    </tr>\n",
       "    <tr>\n",
       "      <th>fastSixes</th>\n",
       "      <td>1.135261</td>\n",
       "      <td>5.162175</td>\n",
       "      <td>6.874865</td>\n",
       "      <td>0.931476</td>\n",
       "      <td>0.898414</td>\n",
       "    </tr>\n",
       "    <tr>\n",
       "      <th>fastQuads</th>\n",
       "      <td>0.019115</td>\n",
       "      <td>5.162175</td>\n",
       "      <td>6.874865</td>\n",
       "      <td>0.931476</td>\n",
       "      <td>0.898414</td>\n",
       "    </tr>\n",
       "    <tr>\n",
       "      <th>quad</th>\n",
       "      <td>1.087836</td>\n",
       "      <td>5.162175</td>\n",
       "      <td>6.874865</td>\n",
       "      <td>0.931476</td>\n",
       "      <td>0.898414</td>\n",
       "    </tr>\n",
       "    <tr>\n",
       "      <th>triple</th>\n",
       "      <td>1.070173</td>\n",
       "      <td>5.162175</td>\n",
       "      <td>6.874865</td>\n",
       "      <td>0.931476</td>\n",
       "      <td>0.898414</td>\n",
       "    </tr>\n",
       "    <tr>\n",
       "      <th>double</th>\n",
       "      <td>0.480273</td>\n",
       "      <td>5.162175</td>\n",
       "      <td>6.874865</td>\n",
       "      <td>0.931476</td>\n",
       "      <td>0.898414</td>\n",
       "    </tr>\n",
       "    <tr>\n",
       "      <th>surface</th>\n",
       "      <td>0.427293</td>\n",
       "      <td>5.162175</td>\n",
       "      <td>6.874865</td>\n",
       "      <td>0.931476</td>\n",
       "      <td>0.898414</td>\n",
       "    </tr>\n",
       "    <tr>\n",
       "      <th>total_chairs</th>\n",
       "      <td>0.065501</td>\n",
       "      <td>5.162175</td>\n",
       "      <td>6.874865</td>\n",
       "      <td>0.931476</td>\n",
       "      <td>0.898414</td>\n",
       "    </tr>\n",
       "    <tr>\n",
       "      <th>Runs</th>\n",
       "      <td>0.007914</td>\n",
       "      <td>5.162175</td>\n",
       "      <td>6.874865</td>\n",
       "      <td>0.931476</td>\n",
       "      <td>0.898414</td>\n",
       "    </tr>\n",
       "    <tr>\n",
       "      <th>TerrainParks</th>\n",
       "      <td>0.162812</td>\n",
       "      <td>5.162175</td>\n",
       "      <td>6.874865</td>\n",
       "      <td>0.931476</td>\n",
       "      <td>0.898414</td>\n",
       "    </tr>\n",
       "    <tr>\n",
       "      <th>LongestRun_mi</th>\n",
       "      <td>0.142886</td>\n",
       "      <td>5.162175</td>\n",
       "      <td>6.874865</td>\n",
       "      <td>0.931476</td>\n",
       "      <td>0.898414</td>\n",
       "    </tr>\n",
       "    <tr>\n",
       "      <th>SkiableTerrain_ac</th>\n",
       "      <td>0.000011</td>\n",
       "      <td>5.162175</td>\n",
       "      <td>6.874865</td>\n",
       "      <td>0.931476</td>\n",
       "      <td>0.898414</td>\n",
       "    </tr>\n",
       "    <tr>\n",
       "      <th>Snow Making_ac</th>\n",
       "      <td>0.001988</td>\n",
       "      <td>5.162175</td>\n",
       "      <td>6.874865</td>\n",
       "      <td>0.931476</td>\n",
       "      <td>0.898414</td>\n",
       "    </tr>\n",
       "    <tr>\n",
       "      <th>daysOpenLastYear</th>\n",
       "      <td>0.008581</td>\n",
       "      <td>5.162175</td>\n",
       "      <td>6.874865</td>\n",
       "      <td>0.931476</td>\n",
       "      <td>0.898414</td>\n",
       "    </tr>\n",
       "    <tr>\n",
       "      <th>yearsOpen</th>\n",
       "      <td>0.003796</td>\n",
       "      <td>5.162175</td>\n",
       "      <td>6.874865</td>\n",
       "      <td>0.931476</td>\n",
       "      <td>0.898414</td>\n",
       "    </tr>\n",
       "    <tr>\n",
       "      <th>averageSnowfall</th>\n",
       "      <td>0.004954</td>\n",
       "      <td>5.162175</td>\n",
       "      <td>6.874865</td>\n",
       "      <td>0.931476</td>\n",
       "      <td>0.898414</td>\n",
       "    </tr>\n",
       "    <tr>\n",
       "      <th>AdultWeekday</th>\n",
       "      <td>0.845461</td>\n",
       "      <td>5.162175</td>\n",
       "      <td>6.874865</td>\n",
       "      <td>0.931476</td>\n",
       "      <td>0.898414</td>\n",
       "    </tr>\n",
       "    <tr>\n",
       "      <th>projectedDaysOpen</th>\n",
       "      <td>0.002189</td>\n",
       "      <td>5.162175</td>\n",
       "      <td>6.874865</td>\n",
       "      <td>0.931476</td>\n",
       "      <td>0.898414</td>\n",
       "    </tr>\n",
       "    <tr>\n",
       "      <th>NightSkiing_ac</th>\n",
       "      <td>0.007431</td>\n",
       "      <td>5.162175</td>\n",
       "      <td>6.874865</td>\n",
       "      <td>0.931476</td>\n",
       "      <td>0.898414</td>\n",
       "    </tr>\n",
       "    <tr>\n",
       "      <th>clusters</th>\n",
       "      <td>0.899762</td>\n",
       "      <td>5.162175</td>\n",
       "      <td>6.874865</td>\n",
       "      <td>0.931476</td>\n",
       "      <td>0.898414</td>\n",
       "    </tr>\n",
       "    <tr>\n",
       "      <th>state_Arizona</th>\n",
       "      <td>2.067787</td>\n",
       "      <td>5.162175</td>\n",
       "      <td>6.874865</td>\n",
       "      <td>0.931476</td>\n",
       "      <td>0.898414</td>\n",
       "    </tr>\n",
       "    <tr>\n",
       "      <th>state_California</th>\n",
       "      <td>5.192440</td>\n",
       "      <td>5.162175</td>\n",
       "      <td>6.874865</td>\n",
       "      <td>0.931476</td>\n",
       "      <td>0.898414</td>\n",
       "    </tr>\n",
       "    <tr>\n",
       "      <th>state_Colorado</th>\n",
       "      <td>2.465446</td>\n",
       "      <td>5.162175</td>\n",
       "      <td>6.874865</td>\n",
       "      <td>0.931476</td>\n",
       "      <td>0.898414</td>\n",
       "    </tr>\n",
       "    <tr>\n",
       "      <th>state_Connecticut</th>\n",
       "      <td>6.400324</td>\n",
       "      <td>5.162175</td>\n",
       "      <td>6.874865</td>\n",
       "      <td>0.931476</td>\n",
       "      <td>0.898414</td>\n",
       "    </tr>\n",
       "    <tr>\n",
       "      <th>state_Idaho</th>\n",
       "      <td>4.515964</td>\n",
       "      <td>5.162175</td>\n",
       "      <td>6.874865</td>\n",
       "      <td>0.931476</td>\n",
       "      <td>0.898414</td>\n",
       "    </tr>\n",
       "    <tr>\n",
       "      <th>state_Illinois</th>\n",
       "      <td>0.168023</td>\n",
       "      <td>5.162175</td>\n",
       "      <td>6.874865</td>\n",
       "      <td>0.931476</td>\n",
       "      <td>0.898414</td>\n",
       "    </tr>\n",
       "    <tr>\n",
       "      <th>state_Indiana</th>\n",
       "      <td>3.529950</td>\n",
       "      <td>5.162175</td>\n",
       "      <td>6.874865</td>\n",
       "      <td>0.931476</td>\n",
       "      <td>0.898414</td>\n",
       "    </tr>\n",
       "    <tr>\n",
       "      <th>state_Iowa</th>\n",
       "      <td>1.634084</td>\n",
       "      <td>5.162175</td>\n",
       "      <td>6.874865</td>\n",
       "      <td>0.931476</td>\n",
       "      <td>0.898414</td>\n",
       "    </tr>\n",
       "    <tr>\n",
       "      <th>state_Maine</th>\n",
       "      <td>3.356486</td>\n",
       "      <td>5.162175</td>\n",
       "      <td>6.874865</td>\n",
       "      <td>0.931476</td>\n",
       "      <td>0.898414</td>\n",
       "    </tr>\n",
       "    <tr>\n",
       "      <th>state_Maryland</th>\n",
       "      <td>11.872504</td>\n",
       "      <td>5.162175</td>\n",
       "      <td>6.874865</td>\n",
       "      <td>0.931476</td>\n",
       "      <td>0.898414</td>\n",
       "    </tr>\n",
       "    <tr>\n",
       "      <th>state_Massachusetts</th>\n",
       "      <td>10.684607</td>\n",
       "      <td>5.162175</td>\n",
       "      <td>6.874865</td>\n",
       "      <td>0.931476</td>\n",
       "      <td>0.898414</td>\n",
       "    </tr>\n",
       "    <tr>\n",
       "      <th>state_Michigan</th>\n",
       "      <td>0.931318</td>\n",
       "      <td>5.162175</td>\n",
       "      <td>6.874865</td>\n",
       "      <td>0.931476</td>\n",
       "      <td>0.898414</td>\n",
       "    </tr>\n",
       "    <tr>\n",
       "      <th>state_Minnesota</th>\n",
       "      <td>1.161022</td>\n",
       "      <td>5.162175</td>\n",
       "      <td>6.874865</td>\n",
       "      <td>0.931476</td>\n",
       "      <td>0.898414</td>\n",
       "    </tr>\n",
       "    <tr>\n",
       "      <th>state_Missouri</th>\n",
       "      <td>1.664529</td>\n",
       "      <td>5.162175</td>\n",
       "      <td>6.874865</td>\n",
       "      <td>0.931476</td>\n",
       "      <td>0.898414</td>\n",
       "    </tr>\n",
       "    <tr>\n",
       "      <th>state_Montana</th>\n",
       "      <td>6.205169</td>\n",
       "      <td>5.162175</td>\n",
       "      <td>6.874865</td>\n",
       "      <td>0.931476</td>\n",
       "      <td>0.898414</td>\n",
       "    </tr>\n",
       "    <tr>\n",
       "      <th>state_Nevada</th>\n",
       "      <td>0.899331</td>\n",
       "      <td>5.162175</td>\n",
       "      <td>6.874865</td>\n",
       "      <td>0.931476</td>\n",
       "      <td>0.898414</td>\n",
       "    </tr>\n",
       "    <tr>\n",
       "      <th>state_New Hampshire</th>\n",
       "      <td>7.974601</td>\n",
       "      <td>5.162175</td>\n",
       "      <td>6.874865</td>\n",
       "      <td>0.931476</td>\n",
       "      <td>0.898414</td>\n",
       "    </tr>\n",
       "    <tr>\n",
       "      <th>state_New Jersey</th>\n",
       "      <td>0.970727</td>\n",
       "      <td>5.162175</td>\n",
       "      <td>6.874865</td>\n",
       "      <td>0.931476</td>\n",
       "      <td>0.898414</td>\n",
       "    </tr>\n",
       "    <tr>\n",
       "      <th>state_New Mexico</th>\n",
       "      <td>5.461839</td>\n",
       "      <td>5.162175</td>\n",
       "      <td>6.874865</td>\n",
       "      <td>0.931476</td>\n",
       "      <td>0.898414</td>\n",
       "    </tr>\n",
       "    <tr>\n",
       "      <th>state_New York</th>\n",
       "      <td>2.691279</td>\n",
       "      <td>5.162175</td>\n",
       "      <td>6.874865</td>\n",
       "      <td>0.931476</td>\n",
       "      <td>0.898414</td>\n",
       "    </tr>\n",
       "    <tr>\n",
       "      <th>state_North Carolina</th>\n",
       "      <td>14.876998</td>\n",
       "      <td>5.162175</td>\n",
       "      <td>6.874865</td>\n",
       "      <td>0.931476</td>\n",
       "      <td>0.898414</td>\n",
       "    </tr>\n",
       "    <tr>\n",
       "      <th>state_Ohio</th>\n",
       "      <td>3.823916</td>\n",
       "      <td>5.162175</td>\n",
       "      <td>6.874865</td>\n",
       "      <td>0.931476</td>\n",
       "      <td>0.898414</td>\n",
       "    </tr>\n",
       "    <tr>\n",
       "      <th>state_Oregon</th>\n",
       "      <td>3.122106</td>\n",
       "      <td>5.162175</td>\n",
       "      <td>6.874865</td>\n",
       "      <td>0.931476</td>\n",
       "      <td>0.898414</td>\n",
       "    </tr>\n",
       "    <tr>\n",
       "      <th>state_Pennsylvania</th>\n",
       "      <td>3.782954</td>\n",
       "      <td>5.162175</td>\n",
       "      <td>6.874865</td>\n",
       "      <td>0.931476</td>\n",
       "      <td>0.898414</td>\n",
       "    </tr>\n",
       "    <tr>\n",
       "      <th>state_Rhode Island</th>\n",
       "      <td>1.295457</td>\n",
       "      <td>5.162175</td>\n",
       "      <td>6.874865</td>\n",
       "      <td>0.931476</td>\n",
       "      <td>0.898414</td>\n",
       "    </tr>\n",
       "    <tr>\n",
       "      <th>state_South Dakota</th>\n",
       "      <td>3.246585</td>\n",
       "      <td>5.162175</td>\n",
       "      <td>6.874865</td>\n",
       "      <td>0.931476</td>\n",
       "      <td>0.898414</td>\n",
       "    </tr>\n",
       "    <tr>\n",
       "      <th>state_Tennessee</th>\n",
       "      <td>21.466657</td>\n",
       "      <td>5.162175</td>\n",
       "      <td>6.874865</td>\n",
       "      <td>0.931476</td>\n",
       "      <td>0.898414</td>\n",
       "    </tr>\n",
       "    <tr>\n",
       "      <th>state_Utah</th>\n",
       "      <td>2.899691</td>\n",
       "      <td>5.162175</td>\n",
       "      <td>6.874865</td>\n",
       "      <td>0.931476</td>\n",
       "      <td>0.898414</td>\n",
       "    </tr>\n",
       "    <tr>\n",
       "      <th>state_Vermont</th>\n",
       "      <td>2.356991</td>\n",
       "      <td>5.162175</td>\n",
       "      <td>6.874865</td>\n",
       "      <td>0.931476</td>\n",
       "      <td>0.898414</td>\n",
       "    </tr>\n",
       "    <tr>\n",
       "      <th>state_Virginia</th>\n",
       "      <td>4.440608</td>\n",
       "      <td>5.162175</td>\n",
       "      <td>6.874865</td>\n",
       "      <td>0.931476</td>\n",
       "      <td>0.898414</td>\n",
       "    </tr>\n",
       "    <tr>\n",
       "      <th>state_Washington</th>\n",
       "      <td>2.172400</td>\n",
       "      <td>5.162175</td>\n",
       "      <td>6.874865</td>\n",
       "      <td>0.931476</td>\n",
       "      <td>0.898414</td>\n",
       "    </tr>\n",
       "    <tr>\n",
       "      <th>state_West Virginia</th>\n",
       "      <td>12.427225</td>\n",
       "      <td>5.162175</td>\n",
       "      <td>6.874865</td>\n",
       "      <td>0.931476</td>\n",
       "      <td>0.898414</td>\n",
       "    </tr>\n",
       "    <tr>\n",
       "      <th>state_Wisconsin</th>\n",
       "      <td>2.545303</td>\n",
       "      <td>5.162175</td>\n",
       "      <td>6.874865</td>\n",
       "      <td>0.931476</td>\n",
       "      <td>0.898414</td>\n",
       "    </tr>\n",
       "    <tr>\n",
       "      <th>state_Wyoming</th>\n",
       "      <td>5.697292</td>\n",
       "      <td>5.162175</td>\n",
       "      <td>6.874865</td>\n",
       "      <td>0.931476</td>\n",
       "      <td>0.898414</td>\n",
       "    </tr>\n",
       "  </tbody>\n",
       "</table>\n",
       "</div>"
      ],
      "text/plain": [
       "                      Coefficient  Mean Absolute Error  \\\n",
       "summit_elev              0.000496             5.162175   \n",
       "vertical_drop            0.000086             5.162175   \n",
       "trams                    0.059915             5.162175   \n",
       "fastEight                1.089255             5.162175   \n",
       "fastSixes                1.135261             5.162175   \n",
       "fastQuads                0.019115             5.162175   \n",
       "quad                     1.087836             5.162175   \n",
       "triple                   1.070173             5.162175   \n",
       "double                   0.480273             5.162175   \n",
       "surface                  0.427293             5.162175   \n",
       "total_chairs             0.065501             5.162175   \n",
       "Runs                     0.007914             5.162175   \n",
       "TerrainParks             0.162812             5.162175   \n",
       "LongestRun_mi            0.142886             5.162175   \n",
       "SkiableTerrain_ac        0.000011             5.162175   \n",
       "Snow Making_ac           0.001988             5.162175   \n",
       "daysOpenLastYear         0.008581             5.162175   \n",
       "yearsOpen                0.003796             5.162175   \n",
       "averageSnowfall          0.004954             5.162175   \n",
       "AdultWeekday             0.845461             5.162175   \n",
       "projectedDaysOpen        0.002189             5.162175   \n",
       "NightSkiing_ac           0.007431             5.162175   \n",
       "clusters                 0.899762             5.162175   \n",
       "state_Arizona            2.067787             5.162175   \n",
       "state_California         5.192440             5.162175   \n",
       "state_Colorado           2.465446             5.162175   \n",
       "state_Connecticut        6.400324             5.162175   \n",
       "state_Idaho              4.515964             5.162175   \n",
       "state_Illinois           0.168023             5.162175   \n",
       "state_Indiana            3.529950             5.162175   \n",
       "state_Iowa               1.634084             5.162175   \n",
       "state_Maine              3.356486             5.162175   \n",
       "state_Maryland          11.872504             5.162175   \n",
       "state_Massachusetts     10.684607             5.162175   \n",
       "state_Michigan           0.931318             5.162175   \n",
       "state_Minnesota          1.161022             5.162175   \n",
       "state_Missouri           1.664529             5.162175   \n",
       "state_Montana            6.205169             5.162175   \n",
       "state_Nevada             0.899331             5.162175   \n",
       "state_New Hampshire      7.974601             5.162175   \n",
       "state_New Jersey         0.970727             5.162175   \n",
       "state_New Mexico         5.461839             5.162175   \n",
       "state_New York           2.691279             5.162175   \n",
       "state_North Carolina    14.876998             5.162175   \n",
       "state_Ohio               3.823916             5.162175   \n",
       "state_Oregon             3.122106             5.162175   \n",
       "state_Pennsylvania       3.782954             5.162175   \n",
       "state_Rhode Island       1.295457             5.162175   \n",
       "state_South Dakota       3.246585             5.162175   \n",
       "state_Tennessee         21.466657             5.162175   \n",
       "state_Utah               2.899691             5.162175   \n",
       "state_Vermont            2.356991             5.162175   \n",
       "state_Virginia           4.440608             5.162175   \n",
       "state_Washington         2.172400             5.162175   \n",
       "state_West Virginia     12.427225             5.162175   \n",
       "state_Wisconsin          2.545303             5.162175   \n",
       "state_Wyoming            5.697292             5.162175   \n",
       "\n",
       "                      Root Mean Squared Error  r2-testscore  r2-trainscore  \n",
       "summit_elev                          6.874865      0.931476       0.898414  \n",
       "vertical_drop                        6.874865      0.931476       0.898414  \n",
       "trams                                6.874865      0.931476       0.898414  \n",
       "fastEight                            6.874865      0.931476       0.898414  \n",
       "fastSixes                            6.874865      0.931476       0.898414  \n",
       "fastQuads                            6.874865      0.931476       0.898414  \n",
       "quad                                 6.874865      0.931476       0.898414  \n",
       "triple                               6.874865      0.931476       0.898414  \n",
       "double                               6.874865      0.931476       0.898414  \n",
       "surface                              6.874865      0.931476       0.898414  \n",
       "total_chairs                         6.874865      0.931476       0.898414  \n",
       "Runs                                 6.874865      0.931476       0.898414  \n",
       "TerrainParks                         6.874865      0.931476       0.898414  \n",
       "LongestRun_mi                        6.874865      0.931476       0.898414  \n",
       "SkiableTerrain_ac                    6.874865      0.931476       0.898414  \n",
       "Snow Making_ac                       6.874865      0.931476       0.898414  \n",
       "daysOpenLastYear                     6.874865      0.931476       0.898414  \n",
       "yearsOpen                            6.874865      0.931476       0.898414  \n",
       "averageSnowfall                      6.874865      0.931476       0.898414  \n",
       "AdultWeekday                         6.874865      0.931476       0.898414  \n",
       "projectedDaysOpen                    6.874865      0.931476       0.898414  \n",
       "NightSkiing_ac                       6.874865      0.931476       0.898414  \n",
       "clusters                             6.874865      0.931476       0.898414  \n",
       "state_Arizona                        6.874865      0.931476       0.898414  \n",
       "state_California                     6.874865      0.931476       0.898414  \n",
       "state_Colorado                       6.874865      0.931476       0.898414  \n",
       "state_Connecticut                    6.874865      0.931476       0.898414  \n",
       "state_Idaho                          6.874865      0.931476       0.898414  \n",
       "state_Illinois                       6.874865      0.931476       0.898414  \n",
       "state_Indiana                        6.874865      0.931476       0.898414  \n",
       "state_Iowa                           6.874865      0.931476       0.898414  \n",
       "state_Maine                          6.874865      0.931476       0.898414  \n",
       "state_Maryland                       6.874865      0.931476       0.898414  \n",
       "state_Massachusetts                  6.874865      0.931476       0.898414  \n",
       "state_Michigan                       6.874865      0.931476       0.898414  \n",
       "state_Minnesota                      6.874865      0.931476       0.898414  \n",
       "state_Missouri                       6.874865      0.931476       0.898414  \n",
       "state_Montana                        6.874865      0.931476       0.898414  \n",
       "state_Nevada                         6.874865      0.931476       0.898414  \n",
       "state_New Hampshire                  6.874865      0.931476       0.898414  \n",
       "state_New Jersey                     6.874865      0.931476       0.898414  \n",
       "state_New Mexico                     6.874865      0.931476       0.898414  \n",
       "state_New York                       6.874865      0.931476       0.898414  \n",
       "state_North Carolina                 6.874865      0.931476       0.898414  \n",
       "state_Ohio                           6.874865      0.931476       0.898414  \n",
       "state_Oregon                         6.874865      0.931476       0.898414  \n",
       "state_Pennsylvania                   6.874865      0.931476       0.898414  \n",
       "state_Rhode Island                   6.874865      0.931476       0.898414  \n",
       "state_South Dakota                   6.874865      0.931476       0.898414  \n",
       "state_Tennessee                      6.874865      0.931476       0.898414  \n",
       "state_Utah                           6.874865      0.931476       0.898414  \n",
       "state_Vermont                        6.874865      0.931476       0.898414  \n",
       "state_Virginia                       6.874865      0.931476       0.898414  \n",
       "state_Washington                     6.874865      0.931476       0.898414  \n",
       "state_West Virginia                  6.874865      0.931476       0.898414  \n",
       "state_Wisconsin                      6.874865      0.931476       0.898414  \n",
       "state_Wyoming                        6.874865      0.931476       0.898414  "
      ]
     },
     "execution_count": 48,
     "metadata": {},
     "output_type": "execute_result"
    }
   ],
   "source": [
    "performance_metrics"
   ]
  },
  {
   "cell_type": "code",
   "execution_count": 47,
   "metadata": {},
   "outputs": [],
   "source": [
    "performance_metrics.to_csv(r'/Users/ajesh_mahto/Desktop/capstone_project/data/performance_metrics_model4.csv')"
   ]
  }
 ],
 "metadata": {
  "colab": {
   "collapsed_sections": [
    "RtEspslPZyGY",
    "s0DokMkAZyGc",
    "2iuitnKcZyHS",
    "iAWQxougZyHW",
    "ThMTimlBZyHZ",
    "QwZ-LkjXZyHt",
    "srtXEA3N4-Y9",
    "ChVreJupZyIA",
    "zDgSSsq1ZyID",
    "I3GYKWfi5Llg",
    "pmMvrhbI-viE",
    "ZXDPkW3UZyIX",
    "Dnc_vHQLZyId",
    "daJxuJ-dZyIg",
    "mAQ-oHiPZyIn",
    "hnGOsp3mZyIp"
   ],
   "name": "GuidedCapstoneStep6.ipynb",
   "provenance": [],
   "toc_visible": true
  },
  "kernelspec": {
   "display_name": "Python 3",
   "language": "python",
   "name": "python3"
  },
  "language_info": {
   "codemirror_mode": {
    "name": "ipython",
    "version": 3
   },
   "file_extension": ".py",
   "mimetype": "text/x-python",
   "name": "python",
   "nbconvert_exporter": "python",
   "pygments_lexer": "ipython3",
   "version": "3.7.4"
  },
  "toc": {
   "base_numbering": "0",
   "nav_menu": {},
   "number_sections": true,
   "sideBar": true,
   "skip_h1_title": false,
   "title_cell": "Table of Contents",
   "title_sidebar": "Contents",
   "toc_cell": true,
   "toc_position": {
    "height": "calc(100% - 180px)",
    "left": "10px",
    "top": "150px",
    "width": "288px"
   },
   "toc_section_display": true,
   "toc_window_display": true
  }
 },
 "nbformat": 4,
 "nbformat_minor": 1
}
